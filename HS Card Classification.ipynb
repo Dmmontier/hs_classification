{
 "cells": [
  {
   "cell_type": "markdown",
   "metadata": {},
   "source": [
    "In this notebook, I will be showing whether or not cards from the popular Blizzard game Hearthstone can be classified into their types, only by using the text on the cards themselves. All card data is obtained from https://hearthstonejson.com/. \n",
    "\n",
    "As shown in the above link, Hearthstone cards have a number of attributes. For our purposes, we're only looking at two; the text of the card, and its type (Hero, Spell, Minion, or Weapon.)"
   ]
  },
  {
   "cell_type": "code",
   "execution_count": null,
   "metadata": {
    "collapsed": true
   },
   "outputs": [],
   "source": []
  },
  {
   "cell_type": "code",
   "execution_count": 1,
   "metadata": {
    "collapsed": true
   },
   "outputs": [],
   "source": [
    "import numpy as np\n",
    "import pandas as pd\n",
    "from bs4 import BeautifulSoup\n",
    "from nltk.tokenize import word_tokenize\n",
    "from nltk.corpus import stopwords\n",
    "import string"
   ]
  },
  {
   "cell_type": "markdown",
   "metadata": {},
   "source": [
    "First, we read in the file containing all of our card data."
   ]
  },
  {
   "cell_type": "code",
   "execution_count": 2,
   "metadata": {
    "collapsed": true
   },
   "outputs": [],
   "source": [
    "cards = pd.read_json('hscards.json')"
   ]
  },
  {
   "cell_type": "markdown",
   "metadata": {},
   "source": [
    "Taking a look at the head of the dataframe, there are a number of columns. As mentioned earlier, the ones we want to pay attention to are cards['text'] and cards['type']."
   ]
  },
  {
   "cell_type": "code",
   "execution_count": 3,
   "metadata": {},
   "outputs": [
    {
     "data": {
      "text/html": [
       "<div>\n",
       "<style>\n",
       "    .dataframe thead tr:only-child th {\n",
       "        text-align: right;\n",
       "    }\n",
       "\n",
       "    .dataframe thead th {\n",
       "        text-align: left;\n",
       "    }\n",
       "\n",
       "    .dataframe tbody tr th {\n",
       "        vertical-align: top;\n",
       "    }\n",
       "</style>\n",
       "<table border=\"1\" class=\"dataframe\">\n",
       "  <thead>\n",
       "    <tr style=\"text-align: right;\">\n",
       "      <th></th>\n",
       "      <th>artist</th>\n",
       "      <th>attack</th>\n",
       "      <th>cardClass</th>\n",
       "      <th>classes</th>\n",
       "      <th>collectible</th>\n",
       "      <th>collectionText</th>\n",
       "      <th>cost</th>\n",
       "      <th>dbfId</th>\n",
       "      <th>durability</th>\n",
       "      <th>elite</th>\n",
       "      <th>...</th>\n",
       "      <th>playRequirements</th>\n",
       "      <th>playerClass</th>\n",
       "      <th>race</th>\n",
       "      <th>rarity</th>\n",
       "      <th>referencedTags</th>\n",
       "      <th>set</th>\n",
       "      <th>spellDamage</th>\n",
       "      <th>targetingArrowText</th>\n",
       "      <th>text</th>\n",
       "      <th>type</th>\n",
       "    </tr>\n",
       "  </thead>\n",
       "  <tbody>\n",
       "    <tr>\n",
       "      <th>0</th>\n",
       "      <td>Justin Sweet</td>\n",
       "      <td>4.0</td>\n",
       "      <td>NEUTRAL</td>\n",
       "      <td>NaN</td>\n",
       "      <td>True</td>\n",
       "      <td>NaN</td>\n",
       "      <td>5.0</td>\n",
       "      <td>61</td>\n",
       "      <td>NaN</td>\n",
       "      <td>NaN</td>\n",
       "      <td>...</td>\n",
       "      <td>NaN</td>\n",
       "      <td>NEUTRAL</td>\n",
       "      <td>NaN</td>\n",
       "      <td>COMMON</td>\n",
       "      <td>NaN</td>\n",
       "      <td>EXPERT1</td>\n",
       "      <td>NaN</td>\n",
       "      <td>NaN</td>\n",
       "      <td>&lt;b&gt;Enrage:&lt;/b&gt; Your weapon has +2 Attack.</td>\n",
       "      <td>MINION</td>\n",
       "    </tr>\n",
       "    <tr>\n",
       "      <th>1</th>\n",
       "      <td>Steve Hui</td>\n",
       "      <td>NaN</td>\n",
       "      <td>ROGUE</td>\n",
       "      <td>NaN</td>\n",
       "      <td>True</td>\n",
       "      <td>NaN</td>\n",
       "      <td>1.0</td>\n",
       "      <td>990</td>\n",
       "      <td>NaN</td>\n",
       "      <td>NaN</td>\n",
       "      <td>...</td>\n",
       "      <td>NaN</td>\n",
       "      <td>ROGUE</td>\n",
       "      <td>NaN</td>\n",
       "      <td>COMMON</td>\n",
       "      <td>[STEALTH]</td>\n",
       "      <td>HOF</td>\n",
       "      <td>NaN</td>\n",
       "      <td>NaN</td>\n",
       "      <td>Give your minions &lt;b&gt;Stealth&lt;/b&gt; until your ne...</td>\n",
       "      <td>SPELL</td>\n",
       "    </tr>\n",
       "    <tr>\n",
       "      <th>2</th>\n",
       "      <td>Raymond Swanland</td>\n",
       "      <td>NaN</td>\n",
       "      <td>PRIEST</td>\n",
       "      <td>NaN</td>\n",
       "      <td>True</td>\n",
       "      <td>NaN</td>\n",
       "      <td>5.0</td>\n",
       "      <td>2999</td>\n",
       "      <td>NaN</td>\n",
       "      <td>NaN</td>\n",
       "      <td>...</td>\n",
       "      <td>NaN</td>\n",
       "      <td>PRIEST</td>\n",
       "      <td>NaN</td>\n",
       "      <td>RARE</td>\n",
       "      <td>NaN</td>\n",
       "      <td>LOE</td>\n",
       "      <td>NaN</td>\n",
       "      <td>NaN</td>\n",
       "      <td>Deal $3 damage to all minions.\\nShuffle this c...</td>\n",
       "      <td>SPELL</td>\n",
       "    </tr>\n",
       "    <tr>\n",
       "      <th>3</th>\n",
       "      <td>Alex Horley Orlandelli</td>\n",
       "      <td>3.0</td>\n",
       "      <td>WARLOCK</td>\n",
       "      <td>NaN</td>\n",
       "      <td>True</td>\n",
       "      <td>NaN</td>\n",
       "      <td>9.0</td>\n",
       "      <td>777</td>\n",
       "      <td>NaN</td>\n",
       "      <td>1.0</td>\n",
       "      <td>...</td>\n",
       "      <td>NaN</td>\n",
       "      <td>WARLOCK</td>\n",
       "      <td>DEMON</td>\n",
       "      <td>LEGENDARY</td>\n",
       "      <td>NaN</td>\n",
       "      <td>EXPERT1</td>\n",
       "      <td>NaN</td>\n",
       "      <td>NaN</td>\n",
       "      <td>&lt;b&gt;Battlecry:&lt;/b&gt; Destroy your hero and replac...</td>\n",
       "      <td>MINION</td>\n",
       "    </tr>\n",
       "    <tr>\n",
       "      <th>4</th>\n",
       "      <td>Wayne Reynolds</td>\n",
       "      <td>6.0</td>\n",
       "      <td>NEUTRAL</td>\n",
       "      <td>NaN</td>\n",
       "      <td>True</td>\n",
       "      <td>NaN</td>\n",
       "      <td>6.0</td>\n",
       "      <td>2573</td>\n",
       "      <td>NaN</td>\n",
       "      <td>NaN</td>\n",
       "      <td>...</td>\n",
       "      <td>NaN</td>\n",
       "      <td>NEUTRAL</td>\n",
       "      <td>NaN</td>\n",
       "      <td>EPIC</td>\n",
       "      <td>NaN</td>\n",
       "      <td>TGT</td>\n",
       "      <td>NaN</td>\n",
       "      <td>NaN</td>\n",
       "      <td>&lt;b&gt;Battlecry:&lt;/b&gt; Copy your opponent's Hero Po...</td>\n",
       "      <td>MINION</td>\n",
       "    </tr>\n",
       "  </tbody>\n",
       "</table>\n",
       "<p>5 rows × 31 columns</p>\n",
       "</div>"
      ],
      "text/plain": [
       "                   artist  attack cardClass classes  collectible  \\\n",
       "0            Justin Sweet     4.0   NEUTRAL     NaN         True   \n",
       "1               Steve Hui     NaN     ROGUE     NaN         True   \n",
       "2        Raymond Swanland     NaN    PRIEST     NaN         True   \n",
       "3  Alex Horley Orlandelli     3.0   WARLOCK     NaN         True   \n",
       "4          Wayne Reynolds     6.0   NEUTRAL     NaN         True   \n",
       "\n",
       "  collectionText  cost  dbfId  durability  elite   ...   playRequirements  \\\n",
       "0            NaN   5.0     61         NaN    NaN   ...                NaN   \n",
       "1            NaN   1.0    990         NaN    NaN   ...                NaN   \n",
       "2            NaN   5.0   2999         NaN    NaN   ...                NaN   \n",
       "3            NaN   9.0    777         NaN    1.0   ...                NaN   \n",
       "4            NaN   6.0   2573         NaN    NaN   ...                NaN   \n",
       "\n",
       "  playerClass   race     rarity referencedTags      set spellDamage  \\\n",
       "0     NEUTRAL    NaN     COMMON            NaN  EXPERT1         NaN   \n",
       "1       ROGUE    NaN     COMMON      [STEALTH]      HOF         NaN   \n",
       "2      PRIEST    NaN       RARE            NaN      LOE         NaN   \n",
       "3     WARLOCK  DEMON  LEGENDARY            NaN  EXPERT1         NaN   \n",
       "4     NEUTRAL    NaN       EPIC            NaN      TGT         NaN   \n",
       "\n",
       "  targetingArrowText                                               text  \\\n",
       "0                NaN          <b>Enrage:</b> Your weapon has +2 Attack.   \n",
       "1                NaN  Give your minions <b>Stealth</b> until your ne...   \n",
       "2                NaN  Deal $3 damage to all minions.\\nShuffle this c...   \n",
       "3                NaN  <b>Battlecry:</b> Destroy your hero and replac...   \n",
       "4                NaN  <b>Battlecry:</b> Copy your opponent's Hero Po...   \n",
       "\n",
       "     type  \n",
       "0  MINION  \n",
       "1   SPELL  \n",
       "2   SPELL  \n",
       "3  MINION  \n",
       "4  MINION  \n",
       "\n",
       "[5 rows x 31 columns]"
      ]
     },
     "execution_count": 3,
     "metadata": {},
     "output_type": "execute_result"
    }
   ],
   "source": [
    "cards.head()"
   ]
  },
  {
   "cell_type": "markdown",
   "metadata": {},
   "source": [
    "Now, looking at the text of a number of the cards, there's a lot of extra information we don't need in there. Line breaks, html, and punctuation obfuscate the semantic information we're trying to pull out. Here I define a function that does a few things.\n",
    "\n",
    "1. Checks the function for null values, notably for \"vanilla\" cards that have no additional rules text.\n",
    "2. Uses the BeautifulSoup library to strip out all of the html tags\n",
    "3. Splits the text into characters and removes all punctuation.\n",
    "4. Rejoins the text and removing any words that are \"stopwords\", common words in english that lack semantic significance, but are necessary for language to function.\n"
   ]
  },
  {
   "cell_type": "code",
   "execution_count": 8,
   "metadata": {
    "collapsed": true
   },
   "outputs": [],
   "source": [
    "def process_text(text):\n",
    "    if pd.isnull(text):\n",
    "        return '' #blank string\n",
    "    text = BeautifulSoup(text).get_text()\n",
    "    \n",
    "    nopunc = [c for c in text if c not in string.punctuation]\n",
    "    nopunc = ''.join(nopunc) #Rejoin string\n",
    "    return [word for word in nopunc.split() if word.lower() not in stopwords.words('english')]\n",
    "    #Splits sentence at word level and returns all significant words"
   ]
  },
  {
   "cell_type": "markdown",
   "metadata": {},
   "source": [
    "Next I'm going to import a number of features from Scikit-Learn for our actual analysis. \n",
    "\n",
    "<b>CountVectorizer</b> and <b>TfidfTransformer</b> to turn the strings into vector values and calculate their TF-IDF scores (Text Frequency, Inverse Document Frequency, explained further at https://en.wikipedia.org/wiki/Tf%E2%80%93idf)\n",
    "\n",
    "<b>train_test_split</b> to separate the entire corpus of card text into two sets, training data and testing data.\n",
    "\n",
    "<b>MultinomialNB</b>, an implementation of the Multinomial Naive Bayes categorical classification model\n",
    "\n",
    "and <b>Pipeline</b>, an aggregate function which allows us to save a lot of work in performing the other three tasks."
   ]
  },
  {
   "cell_type": "code",
   "execution_count": 6,
   "metadata": {
    "collapsed": true
   },
   "outputs": [],
   "source": [
    "from sklearn.feature_extraction.text import TfidfTransformer, CountVectorizer\n",
    "from sklearn.model_selection import train_test_split\n",
    "from sklearn.pipeline import Pipeline\n",
    "from sklearn.naive_bayes import MultinomialNB"
   ]
  },
  {
   "cell_type": "code",
   "execution_count": 9,
   "metadata": {},
   "outputs": [],
   "source": [
    "pl = Pipeline([('bow',CountVectorizer(analyzer=process_text)),\n",
    "                ('tfidf',TfidfTransformer()),\n",
    "                ('classifier',MultinomialNB())])"
   ]
  },
  {
   "cell_type": "markdown",
   "metadata": {},
   "source": [
    "Here we split our corpus into the training and test data. For this, about 40% of all cards will be used for the testing set. The remaining will be what the model uses to learn the features of each card type."
   ]
  },
  {
   "cell_type": "code",
   "execution_count": 10,
   "metadata": {
    "collapsed": true
   },
   "outputs": [],
   "source": [
    "txt_train,txt_test,label_train,label_test = train_test_split(cards['text'],cards['type'],test_size=.4,random_state=41)"
   ]
  },
  {
   "cell_type": "markdown",
   "metadata": {},
   "source": [
    "Next, I use the pipeline created above to fit the training data (both the text and the label outcome), essentially \"teaching\" the model what the association is between the input text and its resulting label."
   ]
  },
  {
   "cell_type": "code",
   "execution_count": 11,
   "metadata": {},
   "outputs": [
    {
     "name": "stderr",
     "output_type": "stream",
     "text": [
      "C:\\Users\\dmmon\\Anaconda3\\lib\\site-packages\\bs4\\__init__.py:181: UserWarning: No parser was explicitly specified, so I'm using the best available HTML parser for this system (\"lxml\"). This usually isn't a problem, but if you run this code on another system, or in a different virtual environment, it may use a different parser and behave differently.\n",
      "\n",
      "The code that caused this warning is on line 193 of the file C:\\Users\\dmmon\\Anaconda3\\lib\\runpy.py. To get rid of this warning, change code that looks like this:\n",
      "\n",
      " BeautifulSoup(YOUR_MARKUP})\n",
      "\n",
      "to this:\n",
      "\n",
      " BeautifulSoup(YOUR_MARKUP, \"lxml\")\n",
      "\n",
      "  markup_type=markup_type))\n"
     ]
    },
    {
     "data": {
      "text/plain": [
       "Pipeline(steps=[('bow', CountVectorizer(analyzer=<function process_text at 0x000002728D1CDBF8>,\n",
       "        binary=False, decode_error='strict', dtype=<class 'numpy.int64'>,\n",
       "        encoding='utf-8', input='content', lowercase=True, max_df=1.0,\n",
       "        max_features=None, min_df=1, ngram_range=(1, 1), preprocesso...f=False, use_idf=True)), ('classifier', MultinomialNB(alpha=1.0, class_prior=None, fit_prior=True))])"
      ]
     },
     "execution_count": 11,
     "metadata": {},
     "output_type": "execute_result"
    }
   ],
   "source": [
    "pl.fit(txt_train,label_train)"
   ]
  },
  {
   "cell_type": "markdown",
   "metadata": {},
   "source": [
    "We then use that fitted model to make predictions on our testing data."
   ]
  },
  {
   "cell_type": "code",
   "execution_count": 15,
   "metadata": {},
   "outputs": [
    {
     "name": "stderr",
     "output_type": "stream",
     "text": [
      "C:\\Users\\dmmon\\Anaconda3\\lib\\site-packages\\bs4\\__init__.py:181: UserWarning: No parser was explicitly specified, so I'm using the best available HTML parser for this system (\"lxml\"). This usually isn't a problem, but if you run this code on another system, or in a different virtual environment, it may use a different parser and behave differently.\n",
      "\n",
      "The code that caused this warning is on line 193 of the file C:\\Users\\dmmon\\Anaconda3\\lib\\runpy.py. To get rid of this warning, change code that looks like this:\n",
      "\n",
      " BeautifulSoup(YOUR_MARKUP})\n",
      "\n",
      "to this:\n",
      "\n",
      " BeautifulSoup(YOUR_MARKUP, \"lxml\")\n",
      "\n",
      "  markup_type=markup_type))\n"
     ]
    }
   ],
   "source": [
    "predictions = pl.predict(txt_test)"
   ]
  },
  {
   "cell_type": "markdown",
   "metadata": {},
   "source": [
    "Finally, using Scikit-Learn's classification_report feature, we're going to check what kind of result those predictions gave us."
   ]
  },
  {
   "cell_type": "code",
   "execution_count": 16,
   "metadata": {},
   "outputs": [
    {
     "name": "stdout",
     "output_type": "stream",
     "text": [
      "             precision    recall  f1-score   support\n",
      "\n",
      "       HERO       0.00      0.00      0.00         5\n",
      "     MINION       0.69      0.99      0.82       321\n",
      "      SPELL       0.91      0.15      0.25       144\n",
      "     WEAPON       0.00      0.00      0.00        13\n",
      "\n",
      "avg / total       0.73      0.70      0.62       483\n",
      "\n"
     ]
    },
    {
     "name": "stderr",
     "output_type": "stream",
     "text": [
      "C:\\Users\\dmmon\\Anaconda3\\lib\\site-packages\\sklearn\\metrics\\classification.py:1113: UndefinedMetricWarning: Precision and F-score are ill-defined and being set to 0.0 in labels with no predicted samples.\n",
      "  'precision', 'predicted', average, warn_for)\n"
     ]
    }
   ],
   "source": [
    "from sklearn.metrics import classification_report\n",
    "print(classification_report(label_test,predictions))"
   ]
  },
  {
   "cell_type": "markdown",
   "metadata": {},
   "source": [
    "<b> Analysis </b>\n",
    "\n",
    "This classification report tells us a few different things on its own.\n",
    "\n",
    "First off, there are 9 hero classes in hearthstone. Each of these heroes is represented as a \"Hero\" card, but within the context of the game none are accessible by players. They also have no text. As such, we can ignore the \"HERO\" rows entirely.\n",
    "\n",
    "Hearthstone also has very few cards in the \"Weapon\" class, around 50 or so in total. However, unlike the HERO cards, they are not so easily ignored. It is very possible that there was simply not enough data for the model to train on to accurately predict what would be a weapon card. As well, due to the characteristics they share with the MINION class, namely \"power\" and \"toughness\" (represented as \"durability\" for weapons in-game), it is likely that some, if not all of the weapons, were inadvertently classified as minions. As the game progresses and more cards are created, I would be interested to see how the addition of more weapons affects their classification.\n",
    "\n",
    "A precision score of .91 for spells is fairly significant. Our model correctly classified 91% of spells it encountered correctly. The precision of .69 for minions is interesting, and lends credence to two possible conclusions. One, as mentioned above, weapons were incorrectly classified as minions, or two, that the text on spells is more readily associated with the \"spell\" classification than the text on minions. \n"
   ]
  },
  {
   "cell_type": "code",
   "execution_count": null,
   "metadata": {
    "collapsed": true
   },
   "outputs": [],
   "source": []
  }
 ],
 "metadata": {
  "kernelspec": {
   "display_name": "Python 3",
   "language": "python",
   "name": "python3"
  },
  "language_info": {
   "codemirror_mode": {
    "name": "ipython",
    "version": 3
   },
   "file_extension": ".py",
   "mimetype": "text/x-python",
   "name": "python",
   "nbconvert_exporter": "python",
   "pygments_lexer": "ipython3",
   "version": "3.6.1"
  }
 },
 "nbformat": 4,
 "nbformat_minor": 2
}
